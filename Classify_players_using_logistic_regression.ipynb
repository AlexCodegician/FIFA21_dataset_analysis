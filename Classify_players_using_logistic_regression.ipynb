{
 "cells": [
  {
   "cell_type": "markdown",
   "metadata": {},
   "source": [
    "# Classifying players from Premier League by the level of their teams"
   ]
  },
  {
   "cell_type": "markdown",
   "metadata": {},
   "source": [
    "## Import basic libraries"
   ]
  },
  {
   "cell_type": "code",
   "execution_count": 7,
   "metadata": {},
   "outputs": [],
   "source": [
    "import pandas as pd\n",
    "import numpy as np"
   ]
  },
  {
   "cell_type": "markdown",
   "metadata": {},
   "source": [
    "## Import FIFA 21 dataset"
   ]
  },
  {
   "cell_type": "code",
   "execution_count": 8,
   "metadata": {},
   "outputs": [
    {
     "data": {
      "text/html": [
       "<div>\n",
       "<style scoped>\n",
       "    .dataframe tbody tr th:only-of-type {\n",
       "        vertical-align: middle;\n",
       "    }\n",
       "\n",
       "    .dataframe tbody tr th {\n",
       "        vertical-align: top;\n",
       "    }\n",
       "\n",
       "    .dataframe thead th {\n",
       "        text-align: right;\n",
       "    }\n",
       "</style>\n",
       "<table border=\"1\" class=\"dataframe\">\n",
       "  <thead>\n",
       "    <tr style=\"text-align: right;\">\n",
       "      <th></th>\n",
       "      <th>sofifa_id</th>\n",
       "      <th>player_url</th>\n",
       "      <th>short_name</th>\n",
       "      <th>long_name</th>\n",
       "      <th>age</th>\n",
       "      <th>dob</th>\n",
       "      <th>height_cm</th>\n",
       "      <th>weight_kg</th>\n",
       "      <th>nationality</th>\n",
       "      <th>club_name</th>\n",
       "      <th>...</th>\n",
       "      <th>lwb</th>\n",
       "      <th>ldm</th>\n",
       "      <th>cdm</th>\n",
       "      <th>rdm</th>\n",
       "      <th>rwb</th>\n",
       "      <th>lb</th>\n",
       "      <th>lcb</th>\n",
       "      <th>cb</th>\n",
       "      <th>rcb</th>\n",
       "      <th>rb</th>\n",
       "    </tr>\n",
       "  </thead>\n",
       "  <tbody>\n",
       "    <tr>\n",
       "      <th>0</th>\n",
       "      <td>158023</td>\n",
       "      <td>https://sofifa.com/player/158023/lionel-messi/...</td>\n",
       "      <td>L. Messi</td>\n",
       "      <td>Lionel Andrés Messi Cuccittini</td>\n",
       "      <td>33</td>\n",
       "      <td>1987-06-24</td>\n",
       "      <td>170</td>\n",
       "      <td>72</td>\n",
       "      <td>Argentina</td>\n",
       "      <td>FC Barcelona</td>\n",
       "      <td>...</td>\n",
       "      <td>66+3</td>\n",
       "      <td>65+3</td>\n",
       "      <td>65+3</td>\n",
       "      <td>65+3</td>\n",
       "      <td>66+3</td>\n",
       "      <td>62+3</td>\n",
       "      <td>52+3</td>\n",
       "      <td>52+3</td>\n",
       "      <td>52+3</td>\n",
       "      <td>62+3</td>\n",
       "    </tr>\n",
       "    <tr>\n",
       "      <th>1</th>\n",
       "      <td>20801</td>\n",
       "      <td>https://sofifa.com/player/20801/c-ronaldo-dos-...</td>\n",
       "      <td>Cristiano Ronaldo</td>\n",
       "      <td>Cristiano Ronaldo dos Santos Aveiro</td>\n",
       "      <td>35</td>\n",
       "      <td>1985-02-05</td>\n",
       "      <td>187</td>\n",
       "      <td>83</td>\n",
       "      <td>Portugal</td>\n",
       "      <td>Juventus</td>\n",
       "      <td>...</td>\n",
       "      <td>65+3</td>\n",
       "      <td>61+3</td>\n",
       "      <td>61+3</td>\n",
       "      <td>61+3</td>\n",
       "      <td>65+3</td>\n",
       "      <td>61+3</td>\n",
       "      <td>54+3</td>\n",
       "      <td>54+3</td>\n",
       "      <td>54+3</td>\n",
       "      <td>61+3</td>\n",
       "    </tr>\n",
       "    <tr>\n",
       "      <th>2</th>\n",
       "      <td>200389</td>\n",
       "      <td>https://sofifa.com/player/200389/jan-oblak/210002</td>\n",
       "      <td>J. Oblak</td>\n",
       "      <td>Jan Oblak</td>\n",
       "      <td>27</td>\n",
       "      <td>1993-01-07</td>\n",
       "      <td>188</td>\n",
       "      <td>87</td>\n",
       "      <td>Slovenia</td>\n",
       "      <td>Atlético Madrid</td>\n",
       "      <td>...</td>\n",
       "      <td>32+3</td>\n",
       "      <td>36+3</td>\n",
       "      <td>36+3</td>\n",
       "      <td>36+3</td>\n",
       "      <td>32+3</td>\n",
       "      <td>32+3</td>\n",
       "      <td>33+3</td>\n",
       "      <td>33+3</td>\n",
       "      <td>33+3</td>\n",
       "      <td>32+3</td>\n",
       "    </tr>\n",
       "    <tr>\n",
       "      <th>3</th>\n",
       "      <td>188545</td>\n",
       "      <td>https://sofifa.com/player/188545/robert-lewand...</td>\n",
       "      <td>R. Lewandowski</td>\n",
       "      <td>Robert Lewandowski</td>\n",
       "      <td>31</td>\n",
       "      <td>1988-08-21</td>\n",
       "      <td>184</td>\n",
       "      <td>80</td>\n",
       "      <td>Poland</td>\n",
       "      <td>FC Bayern München</td>\n",
       "      <td>...</td>\n",
       "      <td>64+3</td>\n",
       "      <td>65+3</td>\n",
       "      <td>65+3</td>\n",
       "      <td>65+3</td>\n",
       "      <td>64+3</td>\n",
       "      <td>61+3</td>\n",
       "      <td>60+3</td>\n",
       "      <td>60+3</td>\n",
       "      <td>60+3</td>\n",
       "      <td>61+3</td>\n",
       "    </tr>\n",
       "    <tr>\n",
       "      <th>4</th>\n",
       "      <td>190871</td>\n",
       "      <td>https://sofifa.com/player/190871/neymar-da-sil...</td>\n",
       "      <td>Neymar Jr</td>\n",
       "      <td>Neymar da Silva Santos Júnior</td>\n",
       "      <td>28</td>\n",
       "      <td>1992-02-05</td>\n",
       "      <td>175</td>\n",
       "      <td>68</td>\n",
       "      <td>Brazil</td>\n",
       "      <td>Paris Saint-Germain</td>\n",
       "      <td>...</td>\n",
       "      <td>67+3</td>\n",
       "      <td>62+3</td>\n",
       "      <td>62+3</td>\n",
       "      <td>62+3</td>\n",
       "      <td>67+3</td>\n",
       "      <td>62+3</td>\n",
       "      <td>49+3</td>\n",
       "      <td>49+3</td>\n",
       "      <td>49+3</td>\n",
       "      <td>62+3</td>\n",
       "    </tr>\n",
       "  </tbody>\n",
       "</table>\n",
       "<p>5 rows × 106 columns</p>\n",
       "</div>"
      ],
      "text/plain": [
       "   sofifa_id                                         player_url  \\\n",
       "0     158023  https://sofifa.com/player/158023/lionel-messi/...   \n",
       "1      20801  https://sofifa.com/player/20801/c-ronaldo-dos-...   \n",
       "2     200389  https://sofifa.com/player/200389/jan-oblak/210002   \n",
       "3     188545  https://sofifa.com/player/188545/robert-lewand...   \n",
       "4     190871  https://sofifa.com/player/190871/neymar-da-sil...   \n",
       "\n",
       "          short_name                            long_name  age         dob  \\\n",
       "0           L. Messi       Lionel Andrés Messi Cuccittini   33  1987-06-24   \n",
       "1  Cristiano Ronaldo  Cristiano Ronaldo dos Santos Aveiro   35  1985-02-05   \n",
       "2           J. Oblak                            Jan Oblak   27  1993-01-07   \n",
       "3     R. Lewandowski                   Robert Lewandowski   31  1988-08-21   \n",
       "4          Neymar Jr        Neymar da Silva Santos Júnior   28  1992-02-05   \n",
       "\n",
       "   height_cm  weight_kg nationality            club_name  ...   lwb   ldm  \\\n",
       "0        170         72   Argentina         FC Barcelona  ...  66+3  65+3   \n",
       "1        187         83    Portugal             Juventus  ...  65+3  61+3   \n",
       "2        188         87    Slovenia      Atlético Madrid  ...  32+3  36+3   \n",
       "3        184         80      Poland    FC Bayern München  ...  64+3  65+3   \n",
       "4        175         68      Brazil  Paris Saint-Germain  ...  67+3  62+3   \n",
       "\n",
       "    cdm   rdm   rwb    lb   lcb    cb   rcb    rb  \n",
       "0  65+3  65+3  66+3  62+3  52+3  52+3  52+3  62+3  \n",
       "1  61+3  61+3  65+3  61+3  54+3  54+3  54+3  61+3  \n",
       "2  36+3  36+3  32+3  32+3  33+3  33+3  33+3  32+3  \n",
       "3  65+3  65+3  64+3  61+3  60+3  60+3  60+3  61+3  \n",
       "4  62+3  62+3  67+3  62+3  49+3  49+3  49+3  62+3  \n",
       "\n",
       "[5 rows x 106 columns]"
      ]
     },
     "execution_count": 8,
     "metadata": {},
     "output_type": "execute_result"
    }
   ],
   "source": [
    "df = pd.read_csv(\"/Users/alexitzu23/Downloads/archive/players_21.csv\")\n",
    "df.head() #showing the top 5 players in FIFA 21 by overall rating"
   ]
  },
  {
   "cell_type": "markdown",
   "metadata": {},
   "source": [
    "## Data Cleaning"
   ]
  },
  {
   "cell_type": "code",
   "execution_count": 9,
   "metadata": {},
   "outputs": [
    {
     "name": "stderr",
     "output_type": "stream",
     "text": [
      "/Applications/anaconda3/lib/python3.8/site-packages/pandas/core/generic.py:5303: SettingWithCopyWarning: \n",
      "A value is trying to be set on a copy of a slice from a DataFrame.\n",
      "Try using .loc[row_indexer,col_indexer] = value instead\n",
      "\n",
      "See the caveats in the documentation: https://pandas.pydata.org/pandas-docs/stable/user_guide/indexing.html#returning-a-view-versus-a-copy\n",
      "  self[name] = value\n"
     ]
    },
    {
     "data": {
      "text/plain": [
       "top 4       132\n",
       "mid 4       127\n",
       "bottom 4    123\n",
       "Name: club_name, dtype: int64"
      ]
     },
     "execution_count": 9,
     "metadata": {},
     "output_type": "execute_result"
    }
   ],
   "source": [
    "# extract players' names and cont. variables\n",
    "df = df[['club_name', 'overall', 'potential', 'value_eur', 'wage_eur', 'international_reputation',]]\n",
    "\n",
    "# replace null values with mean\n",
    "df = df.fillna(df.mean())\n",
    "\n",
    "# selecting top 4, mid 4, and bottom 4 clubs\n",
    "df_clubs = df[(df.club_name =='Liverpool') | (df.club_name =='Manchester City') | (df.club_name =='Manchester United') | (df.club_name == 'Chelsea') |\n",
    "              (df.club_name =='Sheffield United') | (df.club_name =='Burnley') | (df.club_name =='Southampton') | (df.club_name == 'Everton') |\n",
    "              (df.club_name == 'Aston Villa') |(df.club_name == 'Bournemouth') | (df.club_name == 'Watford') | (df.club_name == 'Norwich City')]\n",
    "\n",
    "# categorizing by top 4, mid 4, and bottom 4\n",
    "df_clubs.club_name = df_clubs.club_name.replace({'Liverpool':'top 4', 'Manchester City':'top 4', 'Manchester United':'top 4', 'Chelsea':'top 4',\n",
    "                                       'Sheffield United':'mid 4', 'Burnley':'mid 4', 'Southampton':'mid 4', 'Everton':'mid 4',\n",
    "                                       'Aston Villa':'bottom 4', 'Bournemouth':'bottom 4', 'Watford':'bottom 4', 'Norwich City':'bottom 4'})\n",
    "\n",
    "df_clubs.club_name.value_counts()"
   ]
  },
  {
   "cell_type": "markdown",
   "metadata": {},
   "source": [
    "## Train & Test split"
   ]
  },
  {
   "cell_type": "code",
   "execution_count": 10,
   "metadata": {},
   "outputs": [],
   "source": [
    "# X - all features except the club , y - clubs\n",
    "X = df_clubs.iloc[:, 1:].values\n",
    "y = df_clubs.club_name.values\n",
    "\n",
    "# 80/20 train & test split\n",
    "from sklearn.model_selection import train_test_split\n",
    "X_train, X_test, y_train, y_test = train_test_split(X, y, test_size=0.20, random_state = 1)\n",
    "\n",
    "# standardize data\n",
    "from sklearn.preprocessing import StandardScaler\n",
    "scaler = StandardScaler()\n",
    "scaler.fit(X_train)\n",
    "\n",
    "# scale both the train and the test set\n",
    "X_train = scaler.transform(X_train)\n",
    "X_test = scaler.transform(X_test)"
   ]
  },
  {
   "cell_type": "markdown",
   "metadata": {},
   "source": [
    "## Execute logistic regression"
   ]
  },
  {
   "cell_type": "code",
   "execution_count": 11,
   "metadata": {},
   "outputs": [],
   "source": [
    "from sklearn.linear_model import LogisticRegression\n",
    "\n",
    "# initialize the logistic regression classifier\n",
    "lr = LogisticRegression(random_state = 1, max_iter = 500)\n",
    "\n",
    "# train the model\n",
    "lr.fit(X_train, y_train)\n",
    "\n",
    "# get prediction\n",
    "y_pred = lr.predict(X_test)"
   ]
  },
  {
   "cell_type": "markdown",
   "metadata": {},
   "source": [
    "## Model evaluation"
   ]
  },
  {
   "cell_type": "code",
   "execution_count": 12,
   "metadata": {},
   "outputs": [
    {
     "name": "stdout",
     "output_type": "stream",
     "text": [
      "-----------Confusion matrix-----------\n",
      "Predicted  bottom 4  mid 4  top 4  All\n",
      "True                                  \n",
      "bottom 4         14      7      1   22\n",
      "mid 4            10     16      6   32\n",
      "top 4             1      4     18   23\n",
      "All              25     27     25   77\n",
      "--------------------------------------\n",
      "Test set accuracy: 0.62\n",
      "=======================================\n",
      "\n",
      "10-fold CV accuracy for each fold\n",
      " [0.875      0.75       0.75       0.875      0.5        0.75\n",
      " 0.625      0.57142857 0.42857143 0.71428571]\n",
      "\n",
      "--------------------------------------\n",
      "10-fold CV Average Accuracy: 0.68\n"
     ]
    }
   ],
   "source": [
    "from sklearn.metrics import confusion_matrix, accuracy_score\n",
    "from sklearn.model_selection import cross_val_score\n",
    "\n",
    "print(\"-----------Confusion matrix-----------\")\n",
    "print(pd.crosstab(y_test, y_pred, rownames=['True'], colnames=['Predicted'], margins=True))\n",
    "print(\"--------------------------------------\")\n",
    "\n",
    "print(\"Test set accuracy: {:.2f}\".format(accuracy_score(y_test, y_pred)))\n",
    "print(\"=======================================\")\n",
    "\n",
    "# 10 fold CV\n",
    "acc = cross_val_score(lr, X_test, y_test, cv=10)\n",
    "print(\"\\n10-fold CV accuracy for each fold\\n {}\".format(acc))\n",
    "print(\"\\n--------------------------------------\")\n",
    "print(\"10-fold CV Average Accuracy: {:.2f}\".format(acc.mean()))"
   ]
  }
 ],
 "metadata": {
  "kernelspec": {
   "display_name": "Python 3",
   "language": "python",
   "name": "python3"
  },
  "language_info": {
   "codemirror_mode": {
    "name": "ipython",
    "version": 3
   },
   "file_extension": ".py",
   "mimetype": "text/x-python",
   "name": "python",
   "nbconvert_exporter": "python",
   "pygments_lexer": "ipython3",
   "version": "3.8.3"
  }
 },
 "nbformat": 4,
 "nbformat_minor": 4
}
